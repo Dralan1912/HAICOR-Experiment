{
 "cells": [
  {
   "cell_type": "markdown",
   "metadata": {},
   "source": [
    "# Research Question 3 - Attention Weight and Path Type\n",
    "\n",
    "The project assumes that the deep-learning system would prefer more rational reasoning - prefer human-like reasoning paths over automatically generated ones. This analysis aims to verify the validity of this assumption.\n",
    "\n",
    "Since this investigation, unlike [Research Question 1](Research%20Question%201.ipynb) and [Research Question 2](Research%20Question%202.ipynb), involves two distinct types of human-like reasoning paths generated either by a human or the COMET system, we will not be able to mix the two sets of experiments."
   ]
  },
  {
   "cell_type": "code",
   "execution_count": 1,
   "metadata": {},
   "outputs": [
    {
     "name": "stdout",
     "output_type": "stream",
     "text": [
      "Total number of human experiments: 7\n",
      "Total number of comet experiments: 7\n"
     ]
    }
   ],
   "source": [
    "import pickle\n",
    "\n",
    "with open(\"data/human.pkl\", \"rb\") as human, open(\"data/comet.pkl\", \"rb\") as comet:\n",
    "    human_experiments = pickle.load(human)\n",
    "    comet_experiments = pickle.load(comet)\n",
    "    \n",
    "print(f\"Total number of human experiments: {len(human_experiments)}\")\n",
    "print(f\"Total number of comet experiments: {len(comet_experiments)}\")"
   ]
  },
  {
   "cell_type": "markdown",
   "metadata": {},
   "source": [
    "## Analysis on Attention Weight\n",
    "\n",
    "Based on [Research Question 2](Research%20Question%202.ipynb), the attention weight of a path can be used as an indication of the deep-learning model's belief in the quality of the reasoning path - higher attention weight implies better path quality. Similar to [Research Question 2](Research%20Question%202.ipynb), we will use the attention weights from instances where all reasoning paths are supplied."
   ]
  },
  {
   "cell_type": "code",
   "execution_count": 2,
   "metadata": {},
   "outputs": [
    {
     "data": {
      "text/html": [
       "<div>\n",
       "<style scoped>\n",
       "    .dataframe tbody tr th:only-of-type {\n",
       "        vertical-align: middle;\n",
       "    }\n",
       "\n",
       "    .dataframe tbody tr th {\n",
       "        vertical-align: top;\n",
       "    }\n",
       "\n",
       "    .dataframe thead th {\n",
       "        text-align: right;\n",
       "    }\n",
       "</style>\n",
       "<table border=\"1\" class=\"dataframe\">\n",
       "  <thead>\n",
       "    <tr style=\"text-align: right;\">\n",
       "      <th></th>\n",
       "      <th>story</th>\n",
       "      <th>line</th>\n",
       "      <th>character</th>\n",
       "      <th>source</th>\n",
       "      <th>path</th>\n",
       "      <th>value</th>\n",
       "    </tr>\n",
       "  </thead>\n",
       "  <tbody>\n",
       "    <tr>\n",
       "      <th>0</th>\n",
       "      <td>0428b530-0cec-4955-b023-0bac60ddf8cc</td>\n",
       "      <td>5</td>\n",
       "      <td>Gina</td>\n",
       "      <td>human</td>\n",
       "      <td>Bringing a bracelet will show a friendship to ...</td>\n",
       "      <td>2.857700e-15</td>\n",
       "    </tr>\n",
       "    <tr>\n",
       "      <th>1</th>\n",
       "      <td>0428b530-0cec-4955-b023-0bac60ddf8cc</td>\n",
       "      <td>5</td>\n",
       "      <td>Gina</td>\n",
       "      <td>human</td>\n",
       "      <td>By pretending to be grateful for the friendshi...</td>\n",
       "      <td>5.986388e-16</td>\n",
       "    </tr>\n",
       "    <tr>\n",
       "      <th>2</th>\n",
       "      <td>0428b530-0cec-4955-b023-0bac60ddf8cc</td>\n",
       "      <td>5</td>\n",
       "      <td>Gina</td>\n",
       "      <td>human</td>\n",
       "      <td>A friendship bracelet is some kind of a trophy...</td>\n",
       "      <td>7.243095e-14</td>\n",
       "    </tr>\n",
       "    <tr>\n",
       "      <th>3</th>\n",
       "      <td>0428b530-0cec-4955-b023-0bac60ddf8cc</td>\n",
       "      <td>5</td>\n",
       "      <td>Gina</td>\n",
       "      <td>human</td>\n",
       "      <td>Gina feels honored that her friend made a frie...</td>\n",
       "      <td>1.087021e-13</td>\n",
       "    </tr>\n",
       "    <tr>\n",
       "      <th>4</th>\n",
       "      <td>0428b530-0cec-4955-b023-0bac60ddf8cc</td>\n",
       "      <td>5</td>\n",
       "      <td>Gina</td>\n",
       "      <td>human</td>\n",
       "      <td>Being an only person that didn't receive new f...</td>\n",
       "      <td>1.928793e-14</td>\n",
       "    </tr>\n",
       "    <tr>\n",
       "      <th>...</th>\n",
       "      <td>...</td>\n",
       "      <td>...</td>\n",
       "      <td>...</td>\n",
       "      <td>...</td>\n",
       "      <td>...</td>\n",
       "      <td>...</td>\n",
       "    </tr>\n",
       "    <tr>\n",
       "      <th>55795</th>\n",
       "      <td>061a896e-12bb-4f3a-a8ec-7e4188228ac9</td>\n",
       "      <td>5</td>\n",
       "      <td>I (myself)</td>\n",
       "      <td>machine</td>\n",
       "      <td>go_home related to die has first subevent rest</td>\n",
       "      <td>4.872338e-12</td>\n",
       "    </tr>\n",
       "    <tr>\n",
       "      <th>55796</th>\n",
       "      <td>061a896e-12bb-4f3a-a8ec-7e4188228ac9</td>\n",
       "      <td>5</td>\n",
       "      <td>I (myself)</td>\n",
       "      <td>machine</td>\n",
       "      <td>idealism has context philosophy related to lif...</td>\n",
       "      <td>3.339160e-07</td>\n",
       "    </tr>\n",
       "    <tr>\n",
       "      <th>55797</th>\n",
       "      <td>061a896e-12bb-4f3a-a8ec-7e4188228ac9</td>\n",
       "      <td>5</td>\n",
       "      <td>I (myself)</td>\n",
       "      <td>machine</td>\n",
       "      <td>honor related to manor related to home</td>\n",
       "      <td>5.432524e-11</td>\n",
       "    </tr>\n",
       "    <tr>\n",
       "      <th>55798</th>\n",
       "      <td>061a896e-12bb-4f3a-a8ec-7e4188228ac9</td>\n",
       "      <td>5</td>\n",
       "      <td>I (myself)</td>\n",
       "      <td>machine</td>\n",
       "      <td>power related to motor related to go</td>\n",
       "      <td>3.387948e-07</td>\n",
       "    </tr>\n",
       "    <tr>\n",
       "      <th>55799</th>\n",
       "      <td>061a896e-12bb-4f3a-a8ec-7e4188228ac9</td>\n",
       "      <td>5</td>\n",
       "      <td>I (myself)</td>\n",
       "      <td>machine</td>\n",
       "      <td>realize related to realism related to idealism</td>\n",
       "      <td>3.158891e-07</td>\n",
       "    </tr>\n",
       "  </tbody>\n",
       "</table>\n",
       "<p>55800 rows × 6 columns</p>\n",
       "</div>"
      ],
      "text/plain": [
       "                                      story  line   character   source  \\\n",
       "0      0428b530-0cec-4955-b023-0bac60ddf8cc     5        Gina    human   \n",
       "1      0428b530-0cec-4955-b023-0bac60ddf8cc     5        Gina    human   \n",
       "2      0428b530-0cec-4955-b023-0bac60ddf8cc     5        Gina    human   \n",
       "3      0428b530-0cec-4955-b023-0bac60ddf8cc     5        Gina    human   \n",
       "4      0428b530-0cec-4955-b023-0bac60ddf8cc     5        Gina    human   \n",
       "...                                     ...   ...         ...      ...   \n",
       "55795  061a896e-12bb-4f3a-a8ec-7e4188228ac9     5  I (myself)  machine   \n",
       "55796  061a896e-12bb-4f3a-a8ec-7e4188228ac9     5  I (myself)  machine   \n",
       "55797  061a896e-12bb-4f3a-a8ec-7e4188228ac9     5  I (myself)  machine   \n",
       "55798  061a896e-12bb-4f3a-a8ec-7e4188228ac9     5  I (myself)  machine   \n",
       "55799  061a896e-12bb-4f3a-a8ec-7e4188228ac9     5  I (myself)  machine   \n",
       "\n",
       "                                                    path         value  \n",
       "0      Bringing a bracelet will show a friendship to ...  2.857700e-15  \n",
       "1      By pretending to be grateful for the friendshi...  5.986388e-16  \n",
       "2      A friendship bracelet is some kind of a trophy...  7.243095e-14  \n",
       "3      Gina feels honored that her friend made a frie...  1.087021e-13  \n",
       "4      Being an only person that didn't receive new f...  1.928793e-14  \n",
       "...                                                  ...           ...  \n",
       "55795     go_home related to die has first subevent rest  4.872338e-12  \n",
       "55796  idealism has context philosophy related to lif...  3.339160e-07  \n",
       "55797             honor related to manor related to home  5.432524e-11  \n",
       "55798               power related to motor related to go  3.387948e-07  \n",
       "55799     realize related to realism related to idealism  3.158891e-07  \n",
       "\n",
       "[55800 rows x 6 columns]"
      ]
     },
     "execution_count": 2,
     "metadata": {},
     "output_type": "execute_result"
    }
   ],
   "source": [
    "import pandas as pd\n",
    "\n",
    "human_attentions = pd.DataFrame(\n",
    "    [(e.story, e.sentence, e.character, i.human_size, i.machine_size, \"human\", p.content, p.weight)\n",
    "     for e in human_experiments for i in e.instances for s in i.samples for p in s.human_paths] +\n",
    "    [(e.story, e.sentence, e.character, i.human_size, i.machine_size, \"machine\", p.content, p.weight)\n",
    "     for e in human_experiments for i in e.instances for s in i.samples for p in s.machine_paths],\n",
    "    columns=(\"story\", \"line\", \"character\", \"human_size\", \"machine_size\", \"source\", \"path\", \"value\")\n",
    ")\n",
    "\n",
    "human_attentions = human_attentions.groupby([\"story\", \"line\", \"character\"])\\\n",
    "    .apply(lambda x: x[(x.human_size == x.human_size.max()) & (x.machine_size == x.machine_size.max())])\\\n",
    "    .reset_index(drop=True)[[\"story\", \"line\", \"character\", \"source\", \"path\", \"value\"]]\n",
    "\n",
    "human_attentions"
   ]
  },
  {
   "cell_type": "code",
   "execution_count": 3,
   "metadata": {
    "scrolled": false
   },
   "outputs": [
    {
     "data": {
      "text/html": [
       "<div>\n",
       "<style scoped>\n",
       "    .dataframe tbody tr th:only-of-type {\n",
       "        vertical-align: middle;\n",
       "    }\n",
       "\n",
       "    .dataframe tbody tr th {\n",
       "        vertical-align: top;\n",
       "    }\n",
       "\n",
       "    .dataframe thead th {\n",
       "        text-align: right;\n",
       "    }\n",
       "</style>\n",
       "<table border=\"1\" class=\"dataframe\">\n",
       "  <thead>\n",
       "    <tr style=\"text-align: right;\">\n",
       "      <th></th>\n",
       "      <th>story</th>\n",
       "      <th>line</th>\n",
       "      <th>character</th>\n",
       "      <th>source</th>\n",
       "      <th>path</th>\n",
       "      <th>value</th>\n",
       "    </tr>\n",
       "  </thead>\n",
       "  <tbody>\n",
       "    <tr>\n",
       "      <th>0</th>\n",
       "      <td>0428b530-0cec-4955-b023-0bac60ddf8cc</td>\n",
       "      <td>5</td>\n",
       "      <td>Gina</td>\n",
       "      <td>comet</td>\n",
       "      <td>as a result, may want and happy</td>\n",
       "      <td>1.236050e-16</td>\n",
       "    </tr>\n",
       "    <tr>\n",
       "      <th>1</th>\n",
       "      <td>0428b530-0cec-4955-b023-0bac60ddf8cc</td>\n",
       "      <td>5</td>\n",
       "      <td>Gina</td>\n",
       "      <td>comet</td>\n",
       "      <td>may are seen seen as to her friend</td>\n",
       "      <td>1.617374e-07</td>\n",
       "    </tr>\n",
       "    <tr>\n",
       "      <th>2</th>\n",
       "      <td>0428b530-0cec-4955-b023-0bac60ddf8cc</td>\n",
       "      <td>5</td>\n",
       "      <td>Gina</td>\n",
       "      <td>comet</td>\n",
       "      <td>as a result, may feel to her friend.</td>\n",
       "      <td>3.417993e-06</td>\n",
       "    </tr>\n",
       "    <tr>\n",
       "      <th>3</th>\n",
       "      <td>0428b530-0cec-4955-b023-0bac60ddf8cc</td>\n",
       "      <td>5</td>\n",
       "      <td>Gina</td>\n",
       "      <td>comet</td>\n",
       "      <td>may are seen seen as because she liked it.</td>\n",
       "      <td>1.236050e-16</td>\n",
       "    </tr>\n",
       "    <tr>\n",
       "      <th>4</th>\n",
       "      <td>0428b530-0cec-4955-b023-0bac60ddf8cc</td>\n",
       "      <td>5</td>\n",
       "      <td>Gina</td>\n",
       "      <td>comet</td>\n",
       "      <td>as a result, may feel to her friend</td>\n",
       "      <td>1.048977e-09</td>\n",
       "    </tr>\n",
       "    <tr>\n",
       "      <th>...</th>\n",
       "      <td>...</td>\n",
       "      <td>...</td>\n",
       "      <td>...</td>\n",
       "      <td>...</td>\n",
       "      <td>...</td>\n",
       "      <td>...</td>\n",
       "    </tr>\n",
       "    <tr>\n",
       "      <th>55795</th>\n",
       "      <td>061a896e-12bb-4f3a-a8ec-7e4188228ac9</td>\n",
       "      <td>5</td>\n",
       "      <td>I (myself)</td>\n",
       "      <td>machine</td>\n",
       "      <td>go related to compose manner of calm</td>\n",
       "      <td>3.744208e-04</td>\n",
       "    </tr>\n",
       "    <tr>\n",
       "      <th>55796</th>\n",
       "      <td>061a896e-12bb-4f3a-a8ec-7e4188228ac9</td>\n",
       "      <td>5</td>\n",
       "      <td>I (myself)</td>\n",
       "      <td>machine</td>\n",
       "      <td>go_home related to die has first subevent rest</td>\n",
       "      <td>2.362119e-07</td>\n",
       "    </tr>\n",
       "    <tr>\n",
       "      <th>55797</th>\n",
       "      <td>061a896e-12bb-4f3a-a8ec-7e4188228ac9</td>\n",
       "      <td>5</td>\n",
       "      <td>I (myself)</td>\n",
       "      <td>machine</td>\n",
       "      <td>home related to comfort related to food</td>\n",
       "      <td>2.476317e-02</td>\n",
       "    </tr>\n",
       "    <tr>\n",
       "      <th>55798</th>\n",
       "      <td>061a896e-12bb-4f3a-a8ec-7e4188228ac9</td>\n",
       "      <td>5</td>\n",
       "      <td>I (myself)</td>\n",
       "      <td>machine</td>\n",
       "      <td>social related to party Antonym home</td>\n",
       "      <td>1.037173e-05</td>\n",
       "    </tr>\n",
       "    <tr>\n",
       "      <th>55799</th>\n",
       "      <td>061a896e-12bb-4f3a-a8ec-7e4188228ac9</td>\n",
       "      <td>5</td>\n",
       "      <td>I (myself)</td>\n",
       "      <td>machine</td>\n",
       "      <td>competition related to game related to kids at...</td>\n",
       "      <td>2.447077e-06</td>\n",
       "    </tr>\n",
       "  </tbody>\n",
       "</table>\n",
       "<p>55800 rows × 6 columns</p>\n",
       "</div>"
      ],
      "text/plain": [
       "                                      story  line   character   source  \\\n",
       "0      0428b530-0cec-4955-b023-0bac60ddf8cc     5        Gina    comet   \n",
       "1      0428b530-0cec-4955-b023-0bac60ddf8cc     5        Gina    comet   \n",
       "2      0428b530-0cec-4955-b023-0bac60ddf8cc     5        Gina    comet   \n",
       "3      0428b530-0cec-4955-b023-0bac60ddf8cc     5        Gina    comet   \n",
       "4      0428b530-0cec-4955-b023-0bac60ddf8cc     5        Gina    comet   \n",
       "...                                     ...   ...         ...      ...   \n",
       "55795  061a896e-12bb-4f3a-a8ec-7e4188228ac9     5  I (myself)  machine   \n",
       "55796  061a896e-12bb-4f3a-a8ec-7e4188228ac9     5  I (myself)  machine   \n",
       "55797  061a896e-12bb-4f3a-a8ec-7e4188228ac9     5  I (myself)  machine   \n",
       "55798  061a896e-12bb-4f3a-a8ec-7e4188228ac9     5  I (myself)  machine   \n",
       "55799  061a896e-12bb-4f3a-a8ec-7e4188228ac9     5  I (myself)  machine   \n",
       "\n",
       "                                                    path         value  \n",
       "0                        as a result, may want and happy  1.236050e-16  \n",
       "1                     may are seen seen as to her friend  1.617374e-07  \n",
       "2                   as a result, may feel to her friend.  3.417993e-06  \n",
       "3             may are seen seen as because she liked it.  1.236050e-16  \n",
       "4                    as a result, may feel to her friend  1.048977e-09  \n",
       "...                                                  ...           ...  \n",
       "55795               go related to compose manner of calm  3.744208e-04  \n",
       "55796     go_home related to die has first subevent rest  2.362119e-07  \n",
       "55797            home related to comfort related to food  2.476317e-02  \n",
       "55798               social related to party Antonym home  1.037173e-05  \n",
       "55799  competition related to game related to kids at...  2.447077e-06  \n",
       "\n",
       "[55800 rows x 6 columns]"
      ]
     },
     "execution_count": 3,
     "metadata": {},
     "output_type": "execute_result"
    }
   ],
   "source": [
    "comet_attentions = pd.DataFrame(\n",
    "    [(e.story, e.sentence, e.character, i.human_size, i.machine_size, \"comet\", p.content, p.weight)\n",
    "     for e in comet_experiments for i in e.instances for s in i.samples for p in s.human_paths] +\n",
    "    [(e.story, e.sentence, e.character, i.human_size, i.machine_size, \"machine\", p.content, p.weight)\n",
    "     for e in comet_experiments for i in e.instances for s in i.samples for p in s.machine_paths],\n",
    "    columns=(\"story\", \"line\", \"character\", \"human_size\", \"machine_size\", \"source\", \"path\", \"value\")\n",
    ")\n",
    "\n",
    "comet_attentions = comet_attentions.groupby([\"story\", \"line\", \"character\"])\\\n",
    "    .apply(lambda x: x[(x.human_size == x.human_size.max()) & (x.machine_size == x.machine_size.max())])\\\n",
    "    .reset_index(drop=True)[[\"story\", \"line\", \"character\", \"source\", \"path\", \"value\"]]\n",
    "\n",
    "comet_attentions"
   ]
  },
  {
   "cell_type": "markdown",
   "metadata": {},
   "source": [
    "Since the normal distribution assumption cannot be satisfied, the Wilcoxon Signed-Rank Test will be used to compare the population means of attention weights of the two types of reasoning paths. Based on the assumption, one would expect that human-like reasoning paths would receive higher attention weights than that of the system-generated ones."
   ]
  },
  {
   "cell_type": "code",
   "execution_count": 4,
   "metadata": {},
   "outputs": [
    {
     "data": {
      "text/plain": [
       "story                                 line  character  \n",
       "0428b530-0cec-4955-b023-0bac60ddf8cc  5     Gina           False\n",
       "0463f79e-2d83-44b7-ad1f-5bcb3f5fd947  3     Finn            True\n",
       "                                      4     Finn            True\n",
       "047a5159-6595-4ec2-b7e6-2807b5f0fc78  1     Gary           False\n",
       "                                      2     Gary            True\n",
       "05c4681d-f365-438b-8509-58461afb2935  5     A small boy    False\n",
       "061a896e-12bb-4f3a-a8ec-7e4188228ac9  5     I (myself)      True\n",
       "dtype: bool"
      ]
     },
     "execution_count": 4,
     "metadata": {},
     "output_type": "execute_result"
    }
   ],
   "source": [
    "from scipy import stats\n",
    "\n",
    "human_results = human_attentions.groupby([\"story\", \"line\", \"character\"])\\\n",
    "    .apply(lambda x: stats.mannwhitneyu(x[x.source==\"machine\"].value,\n",
    "                                        x[x.source==\"human\"].value,\n",
    "                                        alternative=\"greater\").pvalue)\n",
    "\n",
    "human_results < 0.01"
   ]
  },
  {
   "cell_type": "code",
   "execution_count": 5,
   "metadata": {},
   "outputs": [
    {
     "data": {
      "text/plain": [
       "<matplotlib.axes._subplots.AxesSubplot at 0x7f841b4c0790>"
      ]
     },
     "execution_count": 5,
     "metadata": {},
     "output_type": "execute_result"
    },
    {
     "data": {
      "image/png": "[encoded data removed]",
      "text/plain": [
       "<Figure size 432x288 with 1 Axes>"
      ]
     },
     "metadata": {},
     "output_type": "display_data"
    }
   ],
   "source": [
    "(human_results < 0.01).value_counts(normalize=True).plot.pie(title=\"Significant at 0.01\")"
   ]
  },
  {
   "cell_type": "code",
   "execution_count": 6,
   "metadata": {},
   "outputs": [
    {
     "data": {
      "text/plain": [
       "story                                 line  character  \n",
       "0428b530-0cec-4955-b023-0bac60ddf8cc  5     Gina           False\n",
       "0463f79e-2d83-44b7-ad1f-5bcb3f5fd947  3     Finn            True\n",
       "                                      4     Finn            True\n",
       "047a5159-6595-4ec2-b7e6-2807b5f0fc78  1     Gary            True\n",
       "                                      2     Gary            True\n",
       "05c4681d-f365-438b-8509-58461afb2935  5     A small boy    False\n",
       "061a896e-12bb-4f3a-a8ec-7e4188228ac9  5     I (myself)      True\n",
       "dtype: bool"
      ]
     },
     "execution_count": 6,
     "metadata": {},
     "output_type": "execute_result"
    }
   ],
   "source": [
    "comet_results = comet_attentions.groupby([\"story\", \"line\", \"character\"])\\\n",
    "    .apply(lambda x: stats.mannwhitneyu(x[x.source==\"machine\"].value,\n",
    "                                        x[x.source==\"comet\"].value,\n",
    "                                        alternative=\"greater\").pvalue)\n",
    "\n",
    "comet_results < 0.01"
   ]
  },
  {
   "cell_type": "code",
   "execution_count": 7,
   "metadata": {},
   "outputs": [
    {
     "data": {
      "text/plain": [
       "<matplotlib.axes._subplots.AxesSubplot at 0x7f84a0343e50>"
      ]
     },
     "execution_count": 7,
     "metadata": {},
     "output_type": "execute_result"
    },
    {
     "data": {
      "image/png": "[encoded data removed]",
      "text/plain": [
       "<Figure size 432x288 with 1 Axes>"
      ]
     },
     "metadata": {},
     "output_type": "display_data"
    }
   ],
   "source": [
    "(comet_results < 0.01).value_counts(normalize=True).plot.pie(title=\"Significant at 0.01\")"
   ]
  },
  {
   "cell_type": "markdown",
   "metadata": {},
   "source": [
    "## Conclusion\n",
    "\n",
    "TODO"
   ]
  }
 ],
 "metadata": {
  "kernelspec": {
   "display_name": "Python 3",
   "language": "python",
   "name": "python3"
  },
  "language_info": {
   "codemirror_mode": {
    "name": "ipython",
    "version": 3
   },
   "file_extension": ".py",
   "mimetype": "text/x-python",
   "name": "python",
   "nbconvert_exporter": "python",
   "pygments_lexer": "ipython3",
   "version": "3.8.5"
  }
 },
 "nbformat": 4,
 "nbformat_minor": 4
}
