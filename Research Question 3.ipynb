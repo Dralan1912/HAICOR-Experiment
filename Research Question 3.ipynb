{
 "cells": [
  {
   "cell_type": "markdown",
   "metadata": {},
   "source": [
    "# Research Question 3 - Attention Weight and Path Type\n",
    "\n",
    "The project assumes that the deep-learning system would prefer more rational reasoning - prefer human-like reasoning paths over automatically generated ones. This analysis aims to verify the validity of this assumption.\n",
    "\n",
    "Since this investigation, unlike [Research Question 1](Research%20Question%201.ipynb) and [Research Question 2](Research%20Question%202.ipynb), involves two distinct types of human-like reasoning paths generated either by a human or the COMET system, we will not be able to mix the two sets of experiments."
   ]
  },
  {
   "cell_type": "code",
   "execution_count": 1,
   "metadata": {},
   "outputs": [
    {
     "name": "stdout",
     "output_type": "stream",
     "text": [
      "Total number of human experiments: 7\n",
      "Total number of comet experiments: 16\n"
     ]
    }
   ],
   "source": [
    "import pickle\n",
    "\n",
    "with open(\"data/human.pkl\", \"rb\") as human, open(\"data/comet.pkl\", \"rb\") as comet:\n",
    "    human_experiments = pickle.load(human)\n",
    "    comet_experiments = pickle.load(comet)\n",
    "    \n",
    "print(f\"Total number of human experiments: {len(human_experiments)}\")\n",
    "print(f\"Total number of comet experiments: {len(comet_experiments)}\")"
   ]
  },
  {
   "cell_type": "markdown",
   "metadata": {},
   "source": [
    "## Analysis on Attention Weight\n",
    "\n",
    "Based on [Research Question 2](Research%20Question%202.ipynb), the attention weight of a path can be used as an indication of the deep-learning model's belief in the quality of the reasoning path - higher attention weight implies better path quality. Similar to [Research Question 2](Research%20Question%202.ipynb), we will use the attention weights from instances where all reasoning paths are supplied."
   ]
  },
  {
   "cell_type": "code",
   "execution_count": 2,
   "metadata": {},
   "outputs": [
    {
     "data": {
      "text/html": [
       "<div>\n",
       "<style scoped>\n",
       "    .dataframe tbody tr th:only-of-type {\n",
       "        vertical-align: middle;\n",
       "    }\n",
       "\n",
       "    .dataframe tbody tr th {\n",
       "        vertical-align: top;\n",
       "    }\n",
       "\n",
       "    .dataframe thead th {\n",
       "        text-align: right;\n",
       "    }\n",
       "</style>\n",
       "<table border=\"1\" class=\"dataframe\">\n",
       "  <thead>\n",
       "    <tr style=\"text-align: right;\">\n",
       "      <th></th>\n",
       "      <th>story</th>\n",
       "      <th>line</th>\n",
       "      <th>character</th>\n",
       "      <th>source</th>\n",
       "      <th>path</th>\n",
       "      <th>value</th>\n",
       "    </tr>\n",
       "  </thead>\n",
       "  <tbody>\n",
       "    <tr>\n",
       "      <th>0</th>\n",
       "      <td>0428b530-0cec-4955-b023-0bac60ddf8cc</td>\n",
       "      <td>5</td>\n",
       "      <td>Gina</td>\n",
       "      <td>human</td>\n",
       "      <td>When a person shows gratitude to the other per...</td>\n",
       "      <td>1.600138e-14</td>\n",
       "    </tr>\n",
       "    <tr>\n",
       "      <th>1</th>\n",
       "      <td>0428b530-0cec-4955-b023-0bac60ddf8cc</td>\n",
       "      <td>5</td>\n",
       "      <td>Gina</td>\n",
       "      <td>human</td>\n",
       "      <td>Gina received a bracelet from May which is a t...</td>\n",
       "      <td>1.834524e-16</td>\n",
       "    </tr>\n",
       "    <tr>\n",
       "      <th>2</th>\n",
       "      <td>0428b530-0cec-4955-b023-0bac60ddf8cc</td>\n",
       "      <td>5</td>\n",
       "      <td>Gina</td>\n",
       "      <td>human</td>\n",
       "      <td>The object is ugly but a person still pretends...</td>\n",
       "      <td>2.966596e-13</td>\n",
       "    </tr>\n",
       "    <tr>\n",
       "      <th>3</th>\n",
       "      <td>0428b530-0cec-4955-b023-0bac60ddf8cc</td>\n",
       "      <td>5</td>\n",
       "      <td>Gina</td>\n",
       "      <td>human</td>\n",
       "      <td>The object is ugly but a person still pretends...</td>\n",
       "      <td>3.174082e-15</td>\n",
       "    </tr>\n",
       "    <tr>\n",
       "      <th>4</th>\n",
       "      <td>0428b530-0cec-4955-b023-0bac60ddf8cc</td>\n",
       "      <td>5</td>\n",
       "      <td>Gina</td>\n",
       "      <td>human</td>\n",
       "      <td>Gina received a bracelet from May which is a t...</td>\n",
       "      <td>2.966596e-13</td>\n",
       "    </tr>\n",
       "    <tr>\n",
       "      <th>...</th>\n",
       "      <td>...</td>\n",
       "      <td>...</td>\n",
       "      <td>...</td>\n",
       "      <td>...</td>\n",
       "      <td>...</td>\n",
       "      <td>...</td>\n",
       "    </tr>\n",
       "    <tr>\n",
       "      <th>47395</th>\n",
       "      <td>061a896e-12bb-4f3a-a8ec-7e4188228ac9</td>\n",
       "      <td>5</td>\n",
       "      <td>I (myself)</td>\n",
       "      <td>machine</td>\n",
       "      <td>power related to motor related to go</td>\n",
       "      <td>2.237051e-02</td>\n",
       "    </tr>\n",
       "    <tr>\n",
       "      <th>47396</th>\n",
       "      <td>061a896e-12bb-4f3a-a8ec-7e4188228ac9</td>\n",
       "      <td>5</td>\n",
       "      <td>I (myself)</td>\n",
       "      <td>machine</td>\n",
       "      <td>home related to love</td>\n",
       "      <td>1.236910e-06</td>\n",
       "    </tr>\n",
       "    <tr>\n",
       "      <th>47397</th>\n",
       "      <td>061a896e-12bb-4f3a-a8ec-7e4188228ac9</td>\n",
       "      <td>5</td>\n",
       "      <td>I (myself)</td>\n",
       "      <td>machine</td>\n",
       "      <td>go_home related to eliminate related to elimin...</td>\n",
       "      <td>3.862783e-04</td>\n",
       "    </tr>\n",
       "    <tr>\n",
       "      <th>47398</th>\n",
       "      <td>061a896e-12bb-4f3a-a8ec-7e4188228ac9</td>\n",
       "      <td>5</td>\n",
       "      <td>I (myself)</td>\n",
       "      <td>machine</td>\n",
       "      <td>belong related to fit_in related to social</td>\n",
       "      <td>2.222574e-02</td>\n",
       "    </tr>\n",
       "    <tr>\n",
       "      <th>47399</th>\n",
       "      <td>061a896e-12bb-4f3a-a8ec-7e4188228ac9</td>\n",
       "      <td>5</td>\n",
       "      <td>I (myself)</td>\n",
       "      <td>machine</td>\n",
       "      <td>go_home related to die has prerequisite travel...</td>\n",
       "      <td>7.410606e-06</td>\n",
       "    </tr>\n",
       "  </tbody>\n",
       "</table>\n",
       "<p>47400 rows × 6 columns</p>\n",
       "</div>"
      ],
      "text/plain": [
       "                                      story  line   character   source  \\\n",
       "0      0428b530-0cec-4955-b023-0bac60ddf8cc     5        Gina    human   \n",
       "1      0428b530-0cec-4955-b023-0bac60ddf8cc     5        Gina    human   \n",
       "2      0428b530-0cec-4955-b023-0bac60ddf8cc     5        Gina    human   \n",
       "3      0428b530-0cec-4955-b023-0bac60ddf8cc     5        Gina    human   \n",
       "4      0428b530-0cec-4955-b023-0bac60ddf8cc     5        Gina    human   \n",
       "...                                     ...   ...         ...      ...   \n",
       "47395  061a896e-12bb-4f3a-a8ec-7e4188228ac9     5  I (myself)  machine   \n",
       "47396  061a896e-12bb-4f3a-a8ec-7e4188228ac9     5  I (myself)  machine   \n",
       "47397  061a896e-12bb-4f3a-a8ec-7e4188228ac9     5  I (myself)  machine   \n",
       "47398  061a896e-12bb-4f3a-a8ec-7e4188228ac9     5  I (myself)  machine   \n",
       "47399  061a896e-12bb-4f3a-a8ec-7e4188228ac9     5  I (myself)  machine   \n",
       "\n",
       "                                                    path         value  \n",
       "0      When a person shows gratitude to the other per...  1.600138e-14  \n",
       "1      Gina received a bracelet from May which is a t...  1.834524e-16  \n",
       "2      The object is ugly but a person still pretends...  2.966596e-13  \n",
       "3      The object is ugly but a person still pretends...  3.174082e-15  \n",
       "4      Gina received a bracelet from May which is a t...  2.966596e-13  \n",
       "...                                                  ...           ...  \n",
       "47395               power related to motor related to go  2.237051e-02  \n",
       "47396                               home related to love  1.236910e-06  \n",
       "47397  go_home related to eliminate related to elimin...  3.862783e-04  \n",
       "47398         belong related to fit_in related to social  2.222574e-02  \n",
       "47399  go_home related to die has prerequisite travel...  7.410606e-06  \n",
       "\n",
       "[47400 rows x 6 columns]"
      ]
     },
     "execution_count": 2,
     "metadata": {},
     "output_type": "execute_result"
    }
   ],
   "source": [
    "import pandas as pd\n",
    "\n",
    "human_attentions = pd.DataFrame(\n",
    "    [(e.story, e.sentence, e.character, i.human_size, i.machine_size, \"human\", p.content, p.weight)\n",
    "     for e in human_experiments for i in e.instances for s in i.samples for p in s.human_paths] +\n",
    "    [(e.story, e.sentence, e.character, i.human_size, i.machine_size, \"machine\", p.content, p.weight)\n",
    "     for e in human_experiments for i in e.instances for s in i.samples for p in s.machine_paths],\n",
    "    columns=(\"story\", \"line\", \"character\", \"human_size\", \"machine_size\", \"source\", \"path\", \"value\")\n",
    ")\n",
    "\n",
    "human_attentions = human_attentions.groupby([\"story\", \"line\", \"character\"])\\\n",
    "    .apply(lambda x: x[(x.human_size == x.human_size.max()) & (x.machine_size == x.machine_size.max())])\\\n",
    "    .reset_index(drop=True)[[\"story\", \"line\", \"character\", \"source\", \"path\", \"value\"]]\n",
    "\n",
    "human_attentions"
   ]
  },
  {
   "cell_type": "code",
   "execution_count": 3,
   "metadata": {
    "scrolled": false
   },
   "outputs": [
    {
     "data": {
      "text/html": [
       "<div>\n",
       "<style scoped>\n",
       "    .dataframe tbody tr th:only-of-type {\n",
       "        vertical-align: middle;\n",
       "    }\n",
       "\n",
       "    .dataframe tbody tr th {\n",
       "        vertical-align: top;\n",
       "    }\n",
       "\n",
       "    .dataframe thead th {\n",
       "        text-align: right;\n",
       "    }\n",
       "</style>\n",
       "<table border=\"1\" class=\"dataframe\">\n",
       "  <thead>\n",
       "    <tr style=\"text-align: right;\">\n",
       "      <th></th>\n",
       "      <th>story</th>\n",
       "      <th>line</th>\n",
       "      <th>character</th>\n",
       "      <th>source</th>\n",
       "      <th>path</th>\n",
       "      <th>value</th>\n",
       "    </tr>\n",
       "  </thead>\n",
       "  <tbody>\n",
       "    <tr>\n",
       "      <th>0</th>\n",
       "      <td>171c3ca6-1515-4853-b252-998066f3ceb6</td>\n",
       "      <td>1</td>\n",
       "      <td>Meredith</td>\n",
       "      <td>comet</td>\n",
       "      <td>Party is the opposite of evening. Relaxing is ...</td>\n",
       "      <td>6.377374e-25</td>\n",
       "    </tr>\n",
       "    <tr>\n",
       "      <th>1</th>\n",
       "      <td>171c3ca6-1515-4853-b252-998066f3ceb6</td>\n",
       "      <td>1</td>\n",
       "      <td>Meredith</td>\n",
       "      <td>comet</td>\n",
       "      <td>Party is the opposite of boredom. Boredom make...</td>\n",
       "      <td>1.041239e-28</td>\n",
       "    </tr>\n",
       "    <tr>\n",
       "      <th>2</th>\n",
       "      <td>171c3ca6-1515-4853-b252-998066f3ceb6</td>\n",
       "      <td>1</td>\n",
       "      <td>Meredith</td>\n",
       "      <td>comet</td>\n",
       "      <td>Party is the opposite of boredom. Boredom make...</td>\n",
       "      <td>3.877809e-25</td>\n",
       "    </tr>\n",
       "    <tr>\n",
       "      <th>3</th>\n",
       "      <td>171c3ca6-1515-4853-b252-998066f3ceb6</td>\n",
       "      <td>1</td>\n",
       "      <td>Meredith</td>\n",
       "      <td>comet</td>\n",
       "      <td>Party is the opposite of evening. Relaxing is ...</td>\n",
       "      <td>6.377374e-25</td>\n",
       "    </tr>\n",
       "    <tr>\n",
       "      <th>4</th>\n",
       "      <td>171c3ca6-1515-4853-b252-998066f3ceb6</td>\n",
       "      <td>1</td>\n",
       "      <td>Meredith</td>\n",
       "      <td>comet</td>\n",
       "      <td>Party is the opposite of boredom. Boredom make...</td>\n",
       "      <td>1.041239e-28</td>\n",
       "    </tr>\n",
       "    <tr>\n",
       "      <th>...</th>\n",
       "      <td>...</td>\n",
       "      <td>...</td>\n",
       "      <td>...</td>\n",
       "      <td>...</td>\n",
       "      <td>...</td>\n",
       "      <td>...</td>\n",
       "    </tr>\n",
       "    <tr>\n",
       "      <th>104995</th>\n",
       "      <td>b33a2445-7421-4ace-9837-e8f165524ccf</td>\n",
       "      <td>3</td>\n",
       "      <td>Riley</td>\n",
       "      <td>machine</td>\n",
       "      <td>belonging related to family Synonym class</td>\n",
       "      <td>3.582870e-11</td>\n",
       "    </tr>\n",
       "    <tr>\n",
       "      <th>104996</th>\n",
       "      <td>b33a2445-7421-4ace-9837-e8f165524ccf</td>\n",
       "      <td>3</td>\n",
       "      <td>Riley</td>\n",
       "      <td>machine</td>\n",
       "      <td>class related to status</td>\n",
       "      <td>2.057840e-02</td>\n",
       "    </tr>\n",
       "    <tr>\n",
       "      <th>104997</th>\n",
       "      <td>b33a2445-7421-4ace-9837-e8f165524ccf</td>\n",
       "      <td>3</td>\n",
       "      <td>Riley</td>\n",
       "      <td>machine</td>\n",
       "      <td>good related to praise is a approval</td>\n",
       "      <td>2.030006e-08</td>\n",
       "    </tr>\n",
       "    <tr>\n",
       "      <th>104998</th>\n",
       "      <td>b33a2445-7421-4ace-9837-e8f165524ccf</td>\n",
       "      <td>3</td>\n",
       "      <td>Riley</td>\n",
       "      <td>machine</td>\n",
       "      <td>drop related to soup Antonym food</td>\n",
       "      <td>6.252807e-02</td>\n",
       "    </tr>\n",
       "    <tr>\n",
       "      <th>104999</th>\n",
       "      <td>b33a2445-7421-4ace-9837-e8f165524ccf</td>\n",
       "      <td>3</td>\n",
       "      <td>Riley</td>\n",
       "      <td>machine</td>\n",
       "      <td>curiosity causes desire examine_thing Has last...</td>\n",
       "      <td>4.797945e-09</td>\n",
       "    </tr>\n",
       "  </tbody>\n",
       "</table>\n",
       "<p>105000 rows × 6 columns</p>\n",
       "</div>"
      ],
      "text/plain": [
       "                                       story  line character   source  \\\n",
       "0       171c3ca6-1515-4853-b252-998066f3ceb6     1  Meredith    comet   \n",
       "1       171c3ca6-1515-4853-b252-998066f3ceb6     1  Meredith    comet   \n",
       "2       171c3ca6-1515-4853-b252-998066f3ceb6     1  Meredith    comet   \n",
       "3       171c3ca6-1515-4853-b252-998066f3ceb6     1  Meredith    comet   \n",
       "4       171c3ca6-1515-4853-b252-998066f3ceb6     1  Meredith    comet   \n",
       "...                                      ...   ...       ...      ...   \n",
       "104995  b33a2445-7421-4ace-9837-e8f165524ccf     3     Riley  machine   \n",
       "104996  b33a2445-7421-4ace-9837-e8f165524ccf     3     Riley  machine   \n",
       "104997  b33a2445-7421-4ace-9837-e8f165524ccf     3     Riley  machine   \n",
       "104998  b33a2445-7421-4ace-9837-e8f165524ccf     3     Riley  machine   \n",
       "104999  b33a2445-7421-4ace-9837-e8f165524ccf     3     Riley  machine   \n",
       "\n",
       "                                                     path         value  \n",
       "0       Party is the opposite of evening. Relaxing is ...  6.377374e-25  \n",
       "1       Party is the opposite of boredom. Boredom make...  1.041239e-28  \n",
       "2       Party is the opposite of boredom. Boredom make...  3.877809e-25  \n",
       "3       Party is the opposite of evening. Relaxing is ...  6.377374e-25  \n",
       "4       Party is the opposite of boredom. Boredom make...  1.041239e-28  \n",
       "...                                                   ...           ...  \n",
       "104995          belonging related to family Synonym class  3.582870e-11  \n",
       "104996                            class related to status  2.057840e-02  \n",
       "104997               good related to praise is a approval  2.030006e-08  \n",
       "104998                  drop related to soup Antonym food  6.252807e-02  \n",
       "104999  curiosity causes desire examine_thing Has last...  4.797945e-09  \n",
       "\n",
       "[105000 rows x 6 columns]"
      ]
     },
     "execution_count": 3,
     "metadata": {},
     "output_type": "execute_result"
    }
   ],
   "source": [
    "comet_attentions = pd.DataFrame(\n",
    "    [(e.story, e.sentence, e.character, i.human_size, i.machine_size, \"comet\", p.content, p.weight)\n",
    "     for e in comet_experiments for i in e.instances for s in i.samples for p in s.human_paths] +\n",
    "    [(e.story, e.sentence, e.character, i.human_size, i.machine_size, \"machine\", p.content, p.weight)\n",
    "     for e in comet_experiments for i in e.instances for s in i.samples for p in s.machine_paths],\n",
    "    columns=(\"story\", \"line\", \"character\", \"human_size\", \"machine_size\", \"source\", \"path\", \"value\")\n",
    ")\n",
    "\n",
    "comet_attentions = comet_attentions.groupby([\"story\", \"line\", \"character\"])\\\n",
    "    .apply(lambda x: x[(x.human_size == x.human_size.max()) & (x.machine_size == x.machine_size.max())])\\\n",
    "    .reset_index(drop=True)[[\"story\", \"line\", \"character\", \"source\", \"path\", \"value\"]]\n",
    "\n",
    "comet_attentions"
   ]
  },
  {
   "cell_type": "markdown",
   "metadata": {},
   "source": [
    "Since the normal distribution assumption cannot be satisfied, the Wilcoxon Signed-Rank Test will be used to compare the population means of attention weights of the two types of reasoning paths. Based on the assumption, one would expect that human-like reasoning paths would receive higher attention weights than that of the system-generated ones."
   ]
  },
  {
   "cell_type": "code",
   "execution_count": 4,
   "metadata": {},
   "outputs": [
    {
     "data": {
      "text/plain": [
       "story                                 line  character  \n",
       "0428b530-0cec-4955-b023-0bac60ddf8cc  5     Gina           True\n",
       "0463f79e-2d83-44b7-ad1f-5bcb3f5fd947  3     Finn           True\n",
       "                                      4     Finn           True\n",
       "047a5159-6595-4ec2-b7e6-2807b5f0fc78  1     Gary           True\n",
       "                                      2     Gary           True\n",
       "05c4681d-f365-438b-8509-58461afb2935  5     A small boy    True\n",
       "061a896e-12bb-4f3a-a8ec-7e4188228ac9  5     I (myself)     True\n",
       "dtype: bool"
      ]
     },
     "execution_count": 4,
     "metadata": {},
     "output_type": "execute_result"
    }
   ],
   "source": [
    "from scipy import stats\n",
    "\n",
    "human_results = human_attentions.groupby([\"story\", \"line\", \"character\"])\\\n",
    "    .apply(lambda x: stats.mannwhitneyu(x[x.source==\"machine\"].value,\n",
    "                                        x[x.source==\"human\"].value,\n",
    "                                        alternative=\"greater\").pvalue)\n",
    "\n",
    "human_results < 0.01"
   ]
  },
  {
   "cell_type": "code",
   "execution_count": 5,
   "metadata": {},
   "outputs": [
    {
     "data": {
      "text/plain": [
       "<matplotlib.axes._subplots.AxesSubplot at 0x7f346afbfc70>"
      ]
     },
     "execution_count": 5,
     "metadata": {},
     "output_type": "execute_result"
    },
    {
     "data": {
      "image/png": "[encoded data removed]",
      "text/plain": [
       "<Figure size 432x288 with 1 Axes>"
      ]
     },
     "metadata": {},
     "output_type": "display_data"
    }
   ],
   "source": [
    "(human_results < 0.01).value_counts(normalize=True).plot.pie(title=\"Significant at 0.01\")"
   ]
  },
  {
   "cell_type": "code",
   "execution_count": 6,
   "metadata": {},
   "outputs": [
    {
     "data": {
      "text/plain": [
       "story                                 line  character   \n",
       "171c3ca6-1515-4853-b252-998066f3ceb6  1     Meredith         True\n",
       "                                      2     Meredith        False\n",
       "                                      3     Meredith        False\n",
       "                                      5     Meredith         True\n",
       "1de18db6-1956-4ea4-8cba-d3147783c6dc  3     Girls            True\n",
       "                                            Neighborhood     True\n",
       "                                            Rick             True\n",
       "5a49eb64-7560-4d40-a9c6-9f5ea7dce513  4     Valerie         False\n",
       "7a45afb8-18c4-4397-8751-6d8332d88178  1     Tycho           False\n",
       "                                      3     Tycho           False\n",
       "                                      4     Doctor          False\n",
       "                                            Tycho           False\n",
       "                                      5     Tycho           False\n",
       "a3e66276-ef27-426f-8a2f-329779f17038  1     Cook            False\n",
       "                                      5     Cook             True\n",
       "b33a2445-7421-4ace-9837-e8f165524ccf  3     Riley            True\n",
       "dtype: bool"
      ]
     },
     "execution_count": 6,
     "metadata": {},
     "output_type": "execute_result"
    }
   ],
   "source": [
    "comet_results = comet_attentions.groupby([\"story\", \"line\", \"character\"])\\\n",
    "    .apply(lambda x: stats.mannwhitneyu(x[x.source==\"machine\"].value,\n",
    "                                        x[x.source==\"comet\"].value,\n",
    "                                        alternative=\"greater\").pvalue)\n",
    "\n",
    "comet_results < 0.01"
   ]
  },
  {
   "cell_type": "code",
   "execution_count": 7,
   "metadata": {},
   "outputs": [
    {
     "data": {
      "text/plain": [
       "<matplotlib.axes._subplots.AxesSubplot at 0x7f341fb080d0>"
      ]
     },
     "execution_count": 7,
     "metadata": {},
     "output_type": "execute_result"
    },
    {
     "data": {
      "image/png": "[encoded data removed]",
      "text/plain": [
       "<Figure size 432x288 with 1 Axes>"
      ]
     },
     "metadata": {},
     "output_type": "display_data"
    }
   ],
   "source": [
    "(comet_results < 0.01).value_counts(normalize=True).plot.pie(title=\"Significant at 0.01\")"
   ]
  },
  {
   "cell_type": "markdown",
   "metadata": {},
   "source": [
    "## Conclusion\n",
    "\n",
    "Test results suggest that the deep-learning model fully recognizes human-generated reasoning paths as higher quality; however, it only believes a minority of COMET-generated ones are reasonable. In this experiment, a reasoning path's syntax and semantic measure its human-likeness; this result suggests that the deep-learning model values the content of a path more than its form. Therefore, future system designs should primarily focus on ensuring the quality, in terms of reasonability, of the reasoning paths rather than their grammatical structure - a simple template-based system should suffice if it encourages rational connections of concepts."
   ]
  }
 ],
 "metadata": {
  "kernelspec": {
   "display_name": "Python 3",
   "language": "python",
   "name": "python3"
  },
  "language_info": {
   "codemirror_mode": {
    "name": "ipython",
    "version": 3
   },
   "file_extension": ".py",
   "mimetype": "text/x-python",
   "name": "python",
   "nbconvert_exporter": "python",
   "pygments_lexer": "ipython3",
   "version": "3.8.5"
  }
 },
 "nbformat": 4,
 "nbformat_minor": 4
}
