{
 "cells": [
  {
   "cell_type": "markdown",
   "metadata": {},
   "source": [
    "# The Effects of Human-Like Reasoning on the Model's Behavior\n",
    "\n",
    "## Introduction\n",
    "\n",
    "The HAICOR (Human-AI Collaborative Reasoning) project aims to improve the explainability of machine learning systems for commonsense reasoning about social interactions by facilitating and utilizing human feedback during the model's training and inference process. This experiment reexamines the behavior of the machine learning system proposed by [Paul and Frank (2019)](https://www.aclweb.org/anthology/N19-1368/) and investigates the effects of human-like reasoning. Results produced by this experiment will validate several assumptions held by the porject, identify potential obstacles of utilizing the feedbacks, and indicate promising approaches for future research efforts.\n",
    "\n",
    "We begin by describing the Story Commonsense dataset and outlining the machine learning systems developed by [Paul and Frank (2019)](https://www.aclweb.org/anthology/N19-1368/).\n",
    "\n",
    "Story Commonsense, published by [Rashkin et al. (2018)](https://arxiv.org/abs/1805.06533), is a large-scale dataset with low-level annotations that models naive psychology of characters in simple commonsense stories. The dataset contains five-sentence stories that describe a simple scenario between multiple characters. The annotation includes sentence-level information about the character's appearance, the character's actions, the motivations of those actions, and the emotional effects of those actions."
   ]
  },
  {
   "cell_type": "markdown",
   "metadata": {},
   "source": [
    "![Figure 1](assets/story-commonsense-example.png)\n",
    "\n",
    "The figure shows an example of annotation and its story context from the Story Commonsense dataset. The rounded rectangles at the end of each sentence represent the characters that appeared in the whole story context. A grey rectangle indicates that the character is absent from the sentence; a light blue rectangle indicates that the character appears in the sentence but experiences no emotional shift; a blue rectangle indicates that the character appears in the sentence and experiences an emotional shift."
   ]
  },
  {
   "cell_type": "markdown",
   "metadata": {},
   "source": [
    "[Paul and Frank (2019)](https://www.aclweb.org/anthology/N19-1368/) approached the Story Commonsense dataset with a supervised deep-learning model enriched using knowledge paths extracted from ConceptNet ([Speer et al., 2016](https://www.aclweb.org/anthology/L12-1639/)). They observed a noticable performance increase when the model is supplied with both the knowledge paths and story context, compared to the story context alone. The model also offers interpretability through the learned attention map over commonsense knowledge paths ([Paul and Frank, 2019](https://www.aclweb.org/anthology/N19-1368/)).\n",
    "\n",
    "The system consists of two distinct components: a static knowledge path extractor and a supervised deep-learning model. We will provide an overview of their operations. The system requires the current sentence, the current context (the sentences before the current sentence), and the character as inputs; its output is the human needs classification vector. Using the attention mechanism, we can also obtain the attention map over the sentence tokens, context tokens, and knowledge paths.\n",
    "\n",
    "Given an input, the system begins by generating the ConceptNet knowledge paths. First, path-finding algorithms generates all shortest paths between concepts from ConceptNet that appeared either in the sentence or context, and human need concepts. Second, several standard graph centrality metrics are calculated for each path. Third, all paths are ranked using the centrality metrics.\n",
    "\n",
    "Top paths are selected and stored as set (order-insensitive) with ranking information discarded; the exact number of selection size is a hyperparameter of the system. The deep-learning model takes the sentence, context, character, and knowledge paths as inputs to produce a human needs classification. The problem is framed as a multi-label classification problem and optimized using Adam with cross-entropy as the cost function."
   ]
  },
  {
   "cell_type": "markdown",
   "metadata": {},
   "source": [
    "![Figure 2](assets/pauls-model-diagram.png)\n",
    "\n",
    "The illustration shows an architectural overview of Paul's model. Each rectangle represents a component of the system; each arrow represents information passed between components. The model executes from top-left to bottom-right."
   ]
  }
 ],
 "metadata": {
  "kernelspec": {
   "display_name": "Python 3",
   "language": "python",
   "name": "python3"
  },
  "language_info": {
   "codemirror_mode": {
    "name": "ipython",
    "version": 3
   },
   "file_extension": ".py",
   "mimetype": "text/x-python",
   "name": "python",
   "nbconvert_exporter": "python",
   "pygments_lexer": "ipython3",
   "version": "3.8.5"
  }
 },
 "nbformat": 4,
 "nbformat_minor": 4
}
